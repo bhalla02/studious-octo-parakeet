{
 "cells": [
  {
   "cell_type": "markdown",
   "id": "3e3f78f0-089d-42ee-b352-a284e94c430f",
   "metadata": {},
   "source": [
    "Q1\n",
    "\n",
    "A database is a structured collection of data that is organized and stored in a way that allows for efficient data retrieval, manipulation, and management.\n",
    "\n",
    " SQL databases are relational databases, which means they use structured tables to store data. Data is organized into rows and columns, and the relationships between different tables are defined.\n",
    " \n",
    "NoSQL databases use a variety of data models, including document-based, key-value, column-family, and graph-based. These models can store structured, semi-structured, or unstructured data."
   ]
  },
  {
   "cell_type": "markdown",
   "id": "ea9fe8b2-3627-4c9a-ad7c-a9d64ea610e9",
   "metadata": {},
   "source": [
    "Q2\n",
    "\n",
    "DDL stands for Data Definition Language.\n",
    "\n",
    "CREATE :\n",
    "The CREATE statement is used to create new database objects, such as tables, indexes, or views.\n",
    "\n",
    "Example\n",
    "\n",
    "CREATE TABLE Employees (\n",
    "    EmployeeID INT PRIMARY KEY,\n",
    "    FirstName VARCHAR(50),\n",
    "    LastName VARCHAR(50),\n",
    "    Department VARCHAR(50)\n",
    ");\n",
    "\n",
    "DROP :\n",
    "\n",
    "The DROP statement is used to delete existing database objects, such as tables, indexes, or views.\n",
    "\n",
    "DROP TABLE Employees ;\n",
    "\n",
    "Alter :\n",
    "\n",
    "The ALTER statement is used to modify the structure of an existing database object, such as adding, modifying, or deleting columns from a table.\n",
    "\n",
    "EXAMPLE :\n",
    "\n",
    "ALTER TABLE Employees \n",
    "ADD Email VARCHAR(10);\n",
    "\n",
    "\n",
    "TRUNCATE :\n",
    "\n",
    "The TRUNCATE statement is used to remove all data from a table while keeping the table structure intact. It is faster and more efficient than a DELETE statement, as it doesn't generate individual row-level deletion logs.\n",
    "\n",
    "EXAMPLE :\n",
    "\n",
    "TRUNCATE TABLE Employees;\n"
   ]
  },
  {
   "cell_type": "markdown",
   "id": "90e23453-1e80-4223-ba04-c67c2ea3e278",
   "metadata": {},
   "source": [
    "Q3\n",
    "\n",
    "\n",
    "DML is stand for data manipulation language. \n",
    "\n",
    "INSERT :\n",
    "\n",
    "INSERT is to add new values or objects in the exisiting table.\n",
    "\n",
    "EXAMPLE :\n",
    "\n",
    "\n",
    "INSERT INTO Employees (EmployeeID , First_NAME, Last_Name , Age )\n",
    "VALUES ( 101 , 'John' , 'Singh', 18);\n",
    "\n",
    "\n",
    "UPDATE :\n",
    "\n",
    "UPDATE is used to modify the exisiting data in the table \n",
    "\n",
    "EXAMPLE :\n",
    "\n",
    "UPDATE Employees\n",
    "SET Department = 'Finance'\n",
    "WHERE EmployeeID = 1;\n",
    "\n",
    "DELETE :\n",
    "The DELETE statement is used to remove records from a table.\n",
    "\n",
    "DELETE FROM Employees\n",
    "WHERE EmployeeID = 1;\n"
   ]
  },
  {
   "cell_type": "markdown",
   "id": "f5491650-5123-45fe-8c25-a9f7dee3d360",
   "metadata": {},
   "source": [
    "Q4\n",
    "\n",
    "DQL stands for Data Query Language. \n",
    "\n",
    "The SELECT statement is used to retrieve data from one or more tables in a database.\n",
    "It allows you to specify the columns you want to retrieve, the tables you want to query, and conditions to filter the data.\n",
    "\n",
    "EXAMPLE :\n",
    "\n",
    "SELECT FirstName, LastName\n",
    "FROM Students\n",
    "WHERE GPA >= 3.5;"
   ]
  },
  {
   "cell_type": "markdown",
   "id": "55f866fc-e346-4bda-8cdc-91dad48ebbc9",
   "metadata": {},
   "source": [
    "Q5\n",
    "\n",
    "PRIMARY KEY \n",
    "\n",
    "A Primary Key is a column or set of columns in a database table that uniquely identifies each row or record in that table. It ensures that there are no duplicate rows in the table.\n",
    "\n",
    "FOREIGN KEY :\n",
    "\n",
    " Foreign Key is a column or set of columns in a database table that establishes a link between data in two tables. It creates a relationship between the Foreign Key and the Primary Key of another table, enforcing referential integrity."
   ]
  },
  {
   "cell_type": "code",
   "execution_count": null,
   "id": "dd0291bf-25f0-47b7-92b1-f678fc48cb98",
   "metadata": {},
   "outputs": [],
   "source": [
    "Q6\n",
    "import mysql.connector\n",
    "mydb = mysql.connector.connect(\n",
    "    host = \"localhost\",\n",
    "    user = \"abc\",\n",
    "    password = \"password\"\n",
    ")\n",
    "\n",
    "mycursor = mydb.cursor()\n",
    "mycursor.excute(\"SHOW DATAbASES\n",
    "\n",
    "\n"
   ]
  }
 ],
 "metadata": {
  "kernelspec": {
   "display_name": "Python 3 (ipykernel)",
   "language": "python",
   "name": "python3"
  },
  "language_info": {
   "codemirror_mode": {
    "name": "ipython",
    "version": 3
   },
   "file_extension": ".py",
   "mimetype": "text/x-python",
   "name": "python",
   "nbconvert_exporter": "python",
   "pygments_lexer": "ipython3",
   "version": "3.10.8"
  }
 },
 "nbformat": 4,
 "nbformat_minor": 5
}
